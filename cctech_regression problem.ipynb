{
 "cells": [
  {
   "cell_type": "code",
   "execution_count": 1,
   "metadata": {},
   "outputs": [],
   "source": [
    "import pandas as pd\n",
    "import numpy as np\n",
    "import matplotlib.pyplot as plt"
   ]
  },
  {
   "cell_type": "code",
   "execution_count": 2,
   "metadata": {},
   "outputs": [],
   "source": [
    "df = pd.read_csv('cctech.txt')"
   ]
  },
  {
   "cell_type": "code",
   "execution_count": 3,
   "metadata": {},
   "outputs": [
    {
     "data": {
      "text/html": [
       "<div>\n",
       "<style scoped>\n",
       "    .dataframe tbody tr th:only-of-type {\n",
       "        vertical-align: middle;\n",
       "    }\n",
       "\n",
       "    .dataframe tbody tr th {\n",
       "        vertical-align: top;\n",
       "    }\n",
       "\n",
       "    .dataframe thead th {\n",
       "        text-align: right;\n",
       "    }\n",
       "</style>\n",
       "<table border=\"1\" class=\"dataframe\">\n",
       "  <thead>\n",
       "    <tr style=\"text-align: right;\">\n",
       "      <th></th>\n",
       "      <th>0</th>\n",
       "      <th>1</th>\n",
       "      <th>2</th>\n",
       "      <th>3</th>\n",
       "      <th>4</th>\n",
       "      <th>5</th>\n",
       "      <th>6</th>\n",
       "      <th>7</th>\n",
       "      <th>8</th>\n",
       "      <th>target</th>\n",
       "    </tr>\n",
       "  </thead>\n",
       "  <tbody>\n",
       "    <tr>\n",
       "      <th>0</th>\n",
       "      <td>7.547600</td>\n",
       "      <td>0.151261</td>\n",
       "      <td>557.132466</td>\n",
       "      <td>354.008599</td>\n",
       "      <td>0.301029</td>\n",
       "      <td>55.282594</td>\n",
       "      <td>9635.211683</td>\n",
       "      <td>2.0</td>\n",
       "      <td>1.0</td>\n",
       "      <td>9461.469590</td>\n",
       "    </tr>\n",
       "    <tr>\n",
       "      <th>1</th>\n",
       "      <td>3.140491</td>\n",
       "      <td>0.794497</td>\n",
       "      <td>837.116189</td>\n",
       "      <td>104.515774</td>\n",
       "      <td>0.110622</td>\n",
       "      <td>88.516243</td>\n",
       "      <td>9425.041942</td>\n",
       "      <td>2.0</td>\n",
       "      <td>5.0</td>\n",
       "      <td>10257.271938</td>\n",
       "    </tr>\n",
       "    <tr>\n",
       "      <th>2</th>\n",
       "      <td>2.064447</td>\n",
       "      <td>0.236500</td>\n",
       "      <td>313.757354</td>\n",
       "      <td>259.127993</td>\n",
       "      <td>0.729964</td>\n",
       "      <td>88.350465</td>\n",
       "      <td>9115.661199</td>\n",
       "      <td>1.0</td>\n",
       "      <td>5.0</td>\n",
       "      <td>8719.214483</td>\n",
       "    </tr>\n",
       "    <tr>\n",
       "      <th>3</th>\n",
       "      <td>9.099262</td>\n",
       "      <td>0.453953</td>\n",
       "      <td>661.409826</td>\n",
       "      <td>466.070226</td>\n",
       "      <td>0.432750</td>\n",
       "      <td>21.516152</td>\n",
       "      <td>9584.310016</td>\n",
       "      <td>3.0</td>\n",
       "      <td>2.0</td>\n",
       "      <td>9165.197338</td>\n",
       "    </tr>\n",
       "    <tr>\n",
       "      <th>4</th>\n",
       "      <td>5.264564</td>\n",
       "      <td>0.683869</td>\n",
       "      <td>344.154511</td>\n",
       "      <td>485.441053</td>\n",
       "      <td>0.085599</td>\n",
       "      <td>90.308205</td>\n",
       "      <td>9193.271575</td>\n",
       "      <td>2.0</td>\n",
       "      <td>1.0</td>\n",
       "      <td>9458.427537</td>\n",
       "    </tr>\n",
       "  </tbody>\n",
       "</table>\n",
       "</div>"
      ],
      "text/plain": [
       "          0         1           2           3         4          5  \\\n",
       "0  7.547600  0.151261  557.132466  354.008599  0.301029  55.282594   \n",
       "1  3.140491  0.794497  837.116189  104.515774  0.110622  88.516243   \n",
       "2  2.064447  0.236500  313.757354  259.127993  0.729964  88.350465   \n",
       "3  9.099262  0.453953  661.409826  466.070226  0.432750  21.516152   \n",
       "4  5.264564  0.683869  344.154511  485.441053  0.085599  90.308205   \n",
       "\n",
       "             6    7    8        target  \n",
       "0  9635.211683  2.0  1.0   9461.469590  \n",
       "1  9425.041942  2.0  5.0  10257.271938  \n",
       "2  9115.661199  1.0  5.0   8719.214483  \n",
       "3  9584.310016  3.0  2.0   9165.197338  \n",
       "4  9193.271575  2.0  1.0   9458.427537  "
      ]
     },
     "execution_count": 3,
     "metadata": {},
     "output_type": "execute_result"
    }
   ],
   "source": [
    "df.head()"
   ]
  },
  {
   "cell_type": "code",
   "execution_count": 4,
   "metadata": {
    "scrolled": true
   },
   "outputs": [
    {
     "name": "stdout",
     "output_type": "stream",
     "text": [
      "<class 'pandas.core.frame.DataFrame'>\n",
      "RangeIndex: 900 entries, 0 to 899\n",
      "Data columns (total 10 columns):\n",
      "0         900 non-null float64\n",
      "1         900 non-null float64\n",
      "2         900 non-null float64\n",
      "3         900 non-null float64\n",
      "4         900 non-null float64\n",
      "5         900 non-null float64\n",
      "6         900 non-null float64\n",
      "7         900 non-null float64\n",
      "8         900 non-null float64\n",
      "target    900 non-null float64\n",
      "dtypes: float64(10)\n",
      "memory usage: 70.4 KB\n"
     ]
    }
   ],
   "source": [
    "df.info()"
   ]
  },
  {
   "cell_type": "code",
   "execution_count": 5,
   "metadata": {},
   "outputs": [
    {
     "data": {
      "text/plain": [
       "(900, 10)"
      ]
     },
     "execution_count": 5,
     "metadata": {},
     "output_type": "execute_result"
    }
   ],
   "source": [
    "df.shape"
   ]
  },
  {
   "cell_type": "code",
   "execution_count": 6,
   "metadata": {},
   "outputs": [
    {
     "data": {
      "text/html": [
       "<div>\n",
       "<style scoped>\n",
       "    .dataframe tbody tr th:only-of-type {\n",
       "        vertical-align: middle;\n",
       "    }\n",
       "\n",
       "    .dataframe tbody tr th {\n",
       "        vertical-align: top;\n",
       "    }\n",
       "\n",
       "    .dataframe thead th {\n",
       "        text-align: right;\n",
       "    }\n",
       "</style>\n",
       "<table border=\"1\" class=\"dataframe\">\n",
       "  <thead>\n",
       "    <tr style=\"text-align: right;\">\n",
       "      <th></th>\n",
       "      <th>0</th>\n",
       "      <th>1</th>\n",
       "      <th>2</th>\n",
       "      <th>3</th>\n",
       "      <th>4</th>\n",
       "      <th>5</th>\n",
       "      <th>6</th>\n",
       "      <th>7</th>\n",
       "      <th>8</th>\n",
       "      <th>target</th>\n",
       "    </tr>\n",
       "  </thead>\n",
       "  <tbody>\n",
       "    <tr>\n",
       "      <th>0</th>\n",
       "      <td>1.000000</td>\n",
       "      <td>-0.027976</td>\n",
       "      <td>0.001554</td>\n",
       "      <td>0.018856</td>\n",
       "      <td>0.030425</td>\n",
       "      <td>-0.029911</td>\n",
       "      <td>0.030320</td>\n",
       "      <td>-0.000798</td>\n",
       "      <td>-0.047267</td>\n",
       "      <td>0.037680</td>\n",
       "    </tr>\n",
       "    <tr>\n",
       "      <th>1</th>\n",
       "      <td>-0.027976</td>\n",
       "      <td>1.000000</td>\n",
       "      <td>0.022259</td>\n",
       "      <td>0.005437</td>\n",
       "      <td>-0.003908</td>\n",
       "      <td>0.064851</td>\n",
       "      <td>0.032477</td>\n",
       "      <td>-0.026225</td>\n",
       "      <td>0.013331</td>\n",
       "      <td>0.110671</td>\n",
       "    </tr>\n",
       "    <tr>\n",
       "      <th>2</th>\n",
       "      <td>0.001554</td>\n",
       "      <td>0.022259</td>\n",
       "      <td>1.000000</td>\n",
       "      <td>-0.034736</td>\n",
       "      <td>0.041097</td>\n",
       "      <td>-0.032970</td>\n",
       "      <td>-0.014150</td>\n",
       "      <td>0.005294</td>\n",
       "      <td>0.037880</td>\n",
       "      <td>0.318919</td>\n",
       "    </tr>\n",
       "    <tr>\n",
       "      <th>3</th>\n",
       "      <td>0.018856</td>\n",
       "      <td>0.005437</td>\n",
       "      <td>-0.034736</td>\n",
       "      <td>1.000000</td>\n",
       "      <td>0.010034</td>\n",
       "      <td>-0.031301</td>\n",
       "      <td>0.030401</td>\n",
       "      <td>0.003266</td>\n",
       "      <td>0.006460</td>\n",
       "      <td>-0.007499</td>\n",
       "    </tr>\n",
       "    <tr>\n",
       "      <th>4</th>\n",
       "      <td>0.030425</td>\n",
       "      <td>-0.003908</td>\n",
       "      <td>0.041097</td>\n",
       "      <td>0.010034</td>\n",
       "      <td>1.000000</td>\n",
       "      <td>0.021101</td>\n",
       "      <td>0.080562</td>\n",
       "      <td>-0.069681</td>\n",
       "      <td>-0.008745</td>\n",
       "      <td>-0.578062</td>\n",
       "    </tr>\n",
       "    <tr>\n",
       "      <th>5</th>\n",
       "      <td>-0.029911</td>\n",
       "      <td>0.064851</td>\n",
       "      <td>-0.032970</td>\n",
       "      <td>-0.031301</td>\n",
       "      <td>0.021101</td>\n",
       "      <td>1.000000</td>\n",
       "      <td>0.030859</td>\n",
       "      <td>0.069366</td>\n",
       "      <td>0.065564</td>\n",
       "      <td>-0.017835</td>\n",
       "    </tr>\n",
       "    <tr>\n",
       "      <th>6</th>\n",
       "      <td>0.030320</td>\n",
       "      <td>0.032477</td>\n",
       "      <td>-0.014150</td>\n",
       "      <td>0.030401</td>\n",
       "      <td>0.080562</td>\n",
       "      <td>0.030859</td>\n",
       "      <td>1.000000</td>\n",
       "      <td>-0.080173</td>\n",
       "      <td>0.020134</td>\n",
       "      <td>0.316284</td>\n",
       "    </tr>\n",
       "    <tr>\n",
       "      <th>7</th>\n",
       "      <td>-0.000798</td>\n",
       "      <td>-0.026225</td>\n",
       "      <td>0.005294</td>\n",
       "      <td>0.003266</td>\n",
       "      <td>-0.069681</td>\n",
       "      <td>0.069366</td>\n",
       "      <td>-0.080173</td>\n",
       "      <td>1.000000</td>\n",
       "      <td>-0.006322</td>\n",
       "      <td>-0.463050</td>\n",
       "    </tr>\n",
       "    <tr>\n",
       "      <th>8</th>\n",
       "      <td>-0.047267</td>\n",
       "      <td>0.013331</td>\n",
       "      <td>0.037880</td>\n",
       "      <td>0.006460</td>\n",
       "      <td>-0.008745</td>\n",
       "      <td>0.065564</td>\n",
       "      <td>0.020134</td>\n",
       "      <td>-0.006322</td>\n",
       "      <td>1.000000</td>\n",
       "      <td>0.023457</td>\n",
       "    </tr>\n",
       "    <tr>\n",
       "      <th>target</th>\n",
       "      <td>0.037680</td>\n",
       "      <td>0.110671</td>\n",
       "      <td>0.318919</td>\n",
       "      <td>-0.007499</td>\n",
       "      <td>-0.578062</td>\n",
       "      <td>-0.017835</td>\n",
       "      <td>0.316284</td>\n",
       "      <td>-0.463050</td>\n",
       "      <td>0.023457</td>\n",
       "      <td>1.000000</td>\n",
       "    </tr>\n",
       "  </tbody>\n",
       "</table>\n",
       "</div>"
      ],
      "text/plain": [
       "               0         1         2         3         4         5         6  \\\n",
       "0       1.000000 -0.027976  0.001554  0.018856  0.030425 -0.029911  0.030320   \n",
       "1      -0.027976  1.000000  0.022259  0.005437 -0.003908  0.064851  0.032477   \n",
       "2       0.001554  0.022259  1.000000 -0.034736  0.041097 -0.032970 -0.014150   \n",
       "3       0.018856  0.005437 -0.034736  1.000000  0.010034 -0.031301  0.030401   \n",
       "4       0.030425 -0.003908  0.041097  0.010034  1.000000  0.021101  0.080562   \n",
       "5      -0.029911  0.064851 -0.032970 -0.031301  0.021101  1.000000  0.030859   \n",
       "6       0.030320  0.032477 -0.014150  0.030401  0.080562  0.030859  1.000000   \n",
       "7      -0.000798 -0.026225  0.005294  0.003266 -0.069681  0.069366 -0.080173   \n",
       "8      -0.047267  0.013331  0.037880  0.006460 -0.008745  0.065564  0.020134   \n",
       "target  0.037680  0.110671  0.318919 -0.007499 -0.578062 -0.017835  0.316284   \n",
       "\n",
       "               7         8    target  \n",
       "0      -0.000798 -0.047267  0.037680  \n",
       "1      -0.026225  0.013331  0.110671  \n",
       "2       0.005294  0.037880  0.318919  \n",
       "3       0.003266  0.006460 -0.007499  \n",
       "4      -0.069681 -0.008745 -0.578062  \n",
       "5       0.069366  0.065564 -0.017835  \n",
       "6      -0.080173  0.020134  0.316284  \n",
       "7       1.000000 -0.006322 -0.463050  \n",
       "8      -0.006322  1.000000  0.023457  \n",
       "target -0.463050  0.023457  1.000000  "
      ]
     },
     "execution_count": 6,
     "metadata": {},
     "output_type": "execute_result"
    }
   ],
   "source": [
    "df.corr()"
   ]
  },
  {
   "cell_type": "code",
   "execution_count": 7,
   "metadata": {},
   "outputs": [],
   "source": [
    "import seaborn as sns"
   ]
  },
  {
   "cell_type": "code",
   "execution_count": 16,
   "metadata": {},
   "outputs": [
    {
     "data": {
      "text/plain": [
       "<matplotlib.axes._subplots.AxesSubplot at 0x1e84fd22940>"
      ]
     },
     "execution_count": 16,
     "metadata": {},
     "output_type": "execute_result"
    },
    {
     "data": {
      "image/png": "[encoded data removed]",
      "text/plain": [
       "<Figure size 1440x720 with 2 Axes>"
      ]
     },
     "metadata": {
      "needs_background": "light"
     },
     "output_type": "display_data"
    }
   ],
   "source": [
    "plt.figure(figsize=(20,10))\n",
    "sns.heatmap(df.corr(),annot=True,cmap='coolwarm')"
   ]
  },
  {
   "cell_type": "code",
   "execution_count": 9,
   "metadata": {},
   "outputs": [
    {
     "data": {
      "text/html": [
       "<div>\n",
       "<style scoped>\n",
       "    .dataframe tbody tr th:only-of-type {\n",
       "        vertical-align: middle;\n",
       "    }\n",
       "\n",
       "    .dataframe tbody tr th {\n",
       "        vertical-align: top;\n",
       "    }\n",
       "\n",
       "    .dataframe thead th {\n",
       "        text-align: right;\n",
       "    }\n",
       "</style>\n",
       "<table border=\"1\" class=\"dataframe\">\n",
       "  <thead>\n",
       "    <tr style=\"text-align: right;\">\n",
       "      <th></th>\n",
       "      <th>0</th>\n",
       "      <th>1</th>\n",
       "      <th>2</th>\n",
       "      <th>3</th>\n",
       "      <th>4</th>\n",
       "      <th>5</th>\n",
       "      <th>6</th>\n",
       "      <th>7</th>\n",
       "      <th>8</th>\n",
       "      <th>target</th>\n",
       "    </tr>\n",
       "  </thead>\n",
       "  <tbody>\n",
       "    <tr>\n",
       "      <th>count</th>\n",
       "      <td>900.000000</td>\n",
       "      <td>900.000000</td>\n",
       "      <td>900.000000</td>\n",
       "      <td>900.000000</td>\n",
       "      <td>900.000000</td>\n",
       "      <td>900.000000</td>\n",
       "      <td>900.000000</td>\n",
       "      <td>900.000000</td>\n",
       "      <td>900.000000</td>\n",
       "      <td>900.000000</td>\n",
       "    </tr>\n",
       "    <tr>\n",
       "      <th>mean</th>\n",
       "      <td>5.036548</td>\n",
       "      <td>0.504976</td>\n",
       "      <td>493.064463</td>\n",
       "      <td>297.303826</td>\n",
       "      <td>0.507925</td>\n",
       "      <td>49.781970</td>\n",
       "      <td>9507.426024</td>\n",
       "      <td>1.973333</td>\n",
       "      <td>3.436667</td>\n",
       "      <td>9118.263873</td>\n",
       "    </tr>\n",
       "    <tr>\n",
       "      <th>std</th>\n",
       "      <td>2.869018</td>\n",
       "      <td>0.289803</td>\n",
       "      <td>290.436017</td>\n",
       "      <td>116.899846</td>\n",
       "      <td>0.286008</td>\n",
       "      <td>28.684840</td>\n",
       "      <td>283.069448</td>\n",
       "      <td>0.788798</td>\n",
       "      <td>1.677367</td>\n",
       "      <td>852.633238</td>\n",
       "    </tr>\n",
       "    <tr>\n",
       "      <th>min</th>\n",
       "      <td>0.037452</td>\n",
       "      <td>0.000942</td>\n",
       "      <td>0.969406</td>\n",
       "      <td>100.651192</td>\n",
       "      <td>0.000527</td>\n",
       "      <td>0.185411</td>\n",
       "      <td>9000.096807</td>\n",
       "      <td>1.000000</td>\n",
       "      <td>1.000000</td>\n",
       "      <td>6298.862662</td>\n",
       "    </tr>\n",
       "    <tr>\n",
       "      <th>25%</th>\n",
       "      <td>2.518373</td>\n",
       "      <td>0.248575</td>\n",
       "      <td>247.145068</td>\n",
       "      <td>195.239150</td>\n",
       "      <td>0.284926</td>\n",
       "      <td>25.777689</td>\n",
       "      <td>9267.721916</td>\n",
       "      <td>1.000000</td>\n",
       "      <td>2.000000</td>\n",
       "      <td>8627.098283</td>\n",
       "    </tr>\n",
       "    <tr>\n",
       "      <th>50%</th>\n",
       "      <td>4.944200</td>\n",
       "      <td>0.524393</td>\n",
       "      <td>497.186526</td>\n",
       "      <td>301.949065</td>\n",
       "      <td>0.501211</td>\n",
       "      <td>49.517510</td>\n",
       "      <td>9500.814515</td>\n",
       "      <td>2.000000</td>\n",
       "      <td>3.000000</td>\n",
       "      <td>9208.588416</td>\n",
       "    </tr>\n",
       "    <tr>\n",
       "      <th>75%</th>\n",
       "      <td>7.631981</td>\n",
       "      <td>0.753136</td>\n",
       "      <td>736.572313</td>\n",
       "      <td>399.999965</td>\n",
       "      <td>0.750584</td>\n",
       "      <td>74.538269</td>\n",
       "      <td>9751.394987</td>\n",
       "      <td>3.000000</td>\n",
       "      <td>5.000000</td>\n",
       "      <td>9713.801784</td>\n",
       "    </tr>\n",
       "    <tr>\n",
       "      <th>max</th>\n",
       "      <td>9.997094</td>\n",
       "      <td>0.998795</td>\n",
       "      <td>999.208515</td>\n",
       "      <td>499.174221</td>\n",
       "      <td>0.999742</td>\n",
       "      <td>99.926403</td>\n",
       "      <td>9999.499080</td>\n",
       "      <td>3.000000</td>\n",
       "      <td>6.000000</td>\n",
       "      <td>11175.834533</td>\n",
       "    </tr>\n",
       "  </tbody>\n",
       "</table>\n",
       "</div>"
      ],
      "text/plain": [
       "                0           1           2           3           4           5  \\\n",
       "count  900.000000  900.000000  900.000000  900.000000  900.000000  900.000000   \n",
       "mean     5.036548    0.504976  493.064463  297.303826    0.507925   49.781970   \n",
       "std      2.869018    0.289803  290.436017  116.899846    0.286008   28.684840   \n",
       "min      0.037452    0.000942    0.969406  100.651192    0.000527    0.185411   \n",
       "25%      2.518373    0.248575  247.145068  195.239150    0.284926   25.777689   \n",
       "50%      4.944200    0.524393  497.186526  301.949065    0.501211   49.517510   \n",
       "75%      7.631981    0.753136  736.572313  399.999965    0.750584   74.538269   \n",
       "max      9.997094    0.998795  999.208515  499.174221    0.999742   99.926403   \n",
       "\n",
       "                 6           7           8        target  \n",
       "count   900.000000  900.000000  900.000000    900.000000  \n",
       "mean   9507.426024    1.973333    3.436667   9118.263873  \n",
       "std     283.069448    0.788798    1.677367    852.633238  \n",
       "min    9000.096807    1.000000    1.000000   6298.862662  \n",
       "25%    9267.721916    1.000000    2.000000   8627.098283  \n",
       "50%    9500.814515    2.000000    3.000000   9208.588416  \n",
       "75%    9751.394987    3.000000    5.000000   9713.801784  \n",
       "max    9999.499080    3.000000    6.000000  11175.834533  "
      ]
     },
     "execution_count": 9,
     "metadata": {},
     "output_type": "execute_result"
    }
   ],
   "source": [
    "df.describe()"
   ]
  },
  {
   "cell_type": "code",
   "execution_count": 10,
   "metadata": {},
   "outputs": [
    {
     "data": {
      "text/plain": [
       "<matplotlib.axes._subplots.AxesSubplot at 0x1e850e6d8d0>"
      ]
     },
     "execution_count": 10,
     "metadata": {},
     "output_type": "execute_result"
    },
    {
     "data": {
      "image/png": "[encoded data removed]",
      "text/plain": [
       "<Figure size 432x288 with 1 Axes>"
      ]
     },
     "metadata": {
      "needs_background": "light"
     },
     "output_type": "display_data"
    }
   ],
   "source": [
    "df.boxplot(column=['0','1','2','3','4','5','6','7','8','target'])"
   ]
  },
  {
   "cell_type": "code",
   "execution_count": 11,
   "metadata": {},
   "outputs": [],
   "source": [
    "from scipy.stats import ttest_ind,shapiro,bartlett,levene,mannwhitneyu"
   ]
  },
  {
   "cell_type": "code",
   "execution_count": 12,
   "metadata": {},
   "outputs": [],
   "source": [
    "df_columns = df[['0','1','2','3','4','5','6','7','8']]"
   ]
  },
  {
   "cell_type": "code",
   "execution_count": 13,
   "metadata": {},
   "outputs": [
    {
     "data": {
      "text/html": [
       "<div>\n",
       "<style scoped>\n",
       "    .dataframe tbody tr th:only-of-type {\n",
       "        vertical-align: middle;\n",
       "    }\n",
       "\n",
       "    .dataframe tbody tr th {\n",
       "        vertical-align: top;\n",
       "    }\n",
       "\n",
       "    .dataframe thead th {\n",
       "        text-align: right;\n",
       "    }\n",
       "</style>\n",
       "<table border=\"1\" class=\"dataframe\">\n",
       "  <thead>\n",
       "    <tr style=\"text-align: right;\">\n",
       "      <th></th>\n",
       "      <th>0</th>\n",
       "      <th>1</th>\n",
       "      <th>2</th>\n",
       "      <th>3</th>\n",
       "      <th>4</th>\n",
       "      <th>5</th>\n",
       "      <th>6</th>\n",
       "      <th>7</th>\n",
       "      <th>8</th>\n",
       "    </tr>\n",
       "  </thead>\n",
       "  <tbody>\n",
       "    <tr>\n",
       "      <th>0</th>\n",
       "      <td>7.547600</td>\n",
       "      <td>0.151261</td>\n",
       "      <td>557.132466</td>\n",
       "      <td>354.008599</td>\n",
       "      <td>0.301029</td>\n",
       "      <td>55.282594</td>\n",
       "      <td>9635.211683</td>\n",
       "      <td>2.0</td>\n",
       "      <td>1.0</td>\n",
       "    </tr>\n",
       "    <tr>\n",
       "      <th>1</th>\n",
       "      <td>3.140491</td>\n",
       "      <td>0.794497</td>\n",
       "      <td>837.116189</td>\n",
       "      <td>104.515774</td>\n",
       "      <td>0.110622</td>\n",
       "      <td>88.516243</td>\n",
       "      <td>9425.041942</td>\n",
       "      <td>2.0</td>\n",
       "      <td>5.0</td>\n",
       "    </tr>\n",
       "    <tr>\n",
       "      <th>2</th>\n",
       "      <td>2.064447</td>\n",
       "      <td>0.236500</td>\n",
       "      <td>313.757354</td>\n",
       "      <td>259.127993</td>\n",
       "      <td>0.729964</td>\n",
       "      <td>88.350465</td>\n",
       "      <td>9115.661199</td>\n",
       "      <td>1.0</td>\n",
       "      <td>5.0</td>\n",
       "    </tr>\n",
       "    <tr>\n",
       "      <th>3</th>\n",
       "      <td>9.099262</td>\n",
       "      <td>0.453953</td>\n",
       "      <td>661.409826</td>\n",
       "      <td>466.070226</td>\n",
       "      <td>0.432750</td>\n",
       "      <td>21.516152</td>\n",
       "      <td>9584.310016</td>\n",
       "      <td>3.0</td>\n",
       "      <td>2.0</td>\n",
       "    </tr>\n",
       "    <tr>\n",
       "      <th>4</th>\n",
       "      <td>5.264564</td>\n",
       "      <td>0.683869</td>\n",
       "      <td>344.154511</td>\n",
       "      <td>485.441053</td>\n",
       "      <td>0.085599</td>\n",
       "      <td>90.308205</td>\n",
       "      <td>9193.271575</td>\n",
       "      <td>2.0</td>\n",
       "      <td>1.0</td>\n",
       "    </tr>\n",
       "    <tr>\n",
       "      <th>...</th>\n",
       "      <td>...</td>\n",
       "      <td>...</td>\n",
       "      <td>...</td>\n",
       "      <td>...</td>\n",
       "      <td>...</td>\n",
       "      <td>...</td>\n",
       "      <td>...</td>\n",
       "      <td>...</td>\n",
       "      <td>...</td>\n",
       "    </tr>\n",
       "    <tr>\n",
       "      <th>895</th>\n",
       "      <td>1.488893</td>\n",
       "      <td>0.516765</td>\n",
       "      <td>519.122916</td>\n",
       "      <td>208.069869</td>\n",
       "      <td>0.686475</td>\n",
       "      <td>82.826536</td>\n",
       "      <td>9222.990086</td>\n",
       "      <td>3.0</td>\n",
       "      <td>4.0</td>\n",
       "    </tr>\n",
       "    <tr>\n",
       "      <th>896</th>\n",
       "      <td>3.623385</td>\n",
       "      <td>0.192006</td>\n",
       "      <td>296.631532</td>\n",
       "      <td>313.934667</td>\n",
       "      <td>0.434674</td>\n",
       "      <td>12.728746</td>\n",
       "      <td>9771.713946</td>\n",
       "      <td>3.0</td>\n",
       "      <td>1.0</td>\n",
       "    </tr>\n",
       "    <tr>\n",
       "      <th>897</th>\n",
       "      <td>0.251811</td>\n",
       "      <td>0.049025</td>\n",
       "      <td>992.634520</td>\n",
       "      <td>488.800512</td>\n",
       "      <td>0.319407</td>\n",
       "      <td>42.508449</td>\n",
       "      <td>9271.237213</td>\n",
       "      <td>3.0</td>\n",
       "      <td>5.0</td>\n",
       "    </tr>\n",
       "    <tr>\n",
       "      <th>898</th>\n",
       "      <td>7.495874</td>\n",
       "      <td>0.168602</td>\n",
       "      <td>898.795067</td>\n",
       "      <td>408.495374</td>\n",
       "      <td>0.605576</td>\n",
       "      <td>46.282780</td>\n",
       "      <td>9257.189326</td>\n",
       "      <td>2.0</td>\n",
       "      <td>1.0</td>\n",
       "    </tr>\n",
       "    <tr>\n",
       "      <th>899</th>\n",
       "      <td>6.314877</td>\n",
       "      <td>0.186995</td>\n",
       "      <td>968.025445</td>\n",
       "      <td>337.069336</td>\n",
       "      <td>0.107090</td>\n",
       "      <td>11.107343</td>\n",
       "      <td>9275.511360</td>\n",
       "      <td>2.0</td>\n",
       "      <td>3.0</td>\n",
       "    </tr>\n",
       "  </tbody>\n",
       "</table>\n",
       "<p>900 rows × 9 columns</p>\n",
       "</div>"
      ],
      "text/plain": [
       "            0         1           2           3         4          5  \\\n",
       "0    7.547600  0.151261  557.132466  354.008599  0.301029  55.282594   \n",
       "1    3.140491  0.794497  837.116189  104.515774  0.110622  88.516243   \n",
       "2    2.064447  0.236500  313.757354  259.127993  0.729964  88.350465   \n",
       "3    9.099262  0.453953  661.409826  466.070226  0.432750  21.516152   \n",
       "4    5.264564  0.683869  344.154511  485.441053  0.085599  90.308205   \n",
       "..        ...       ...         ...         ...       ...        ...   \n",
       "895  1.488893  0.516765  519.122916  208.069869  0.686475  82.826536   \n",
       "896  3.623385  0.192006  296.631532  313.934667  0.434674  12.728746   \n",
       "897  0.251811  0.049025  992.634520  488.800512  0.319407  42.508449   \n",
       "898  7.495874  0.168602  898.795067  408.495374  0.605576  46.282780   \n",
       "899  6.314877  0.186995  968.025445  337.069336  0.107090  11.107343   \n",
       "\n",
       "               6    7    8  \n",
       "0    9635.211683  2.0  1.0  \n",
       "1    9425.041942  2.0  5.0  \n",
       "2    9115.661199  1.0  5.0  \n",
       "3    9584.310016  3.0  2.0  \n",
       "4    9193.271575  2.0  1.0  \n",
       "..           ...  ...  ...  \n",
       "895  9222.990086  3.0  4.0  \n",
       "896  9771.713946  3.0  1.0  \n",
       "897  9271.237213  3.0  5.0  \n",
       "898  9257.189326  2.0  1.0  \n",
       "899  9275.511360  2.0  3.0  \n",
       "\n",
       "[900 rows x 9 columns]"
      ]
     },
     "execution_count": 13,
     "metadata": {},
     "output_type": "execute_result"
    }
   ],
   "source": [
    "df_columns"
   ]
  },
  {
   "cell_type": "code",
   "execution_count": 14,
   "metadata": {},
   "outputs": [
    {
     "name": "stdout",
     "output_type": "stream",
     "text": [
      "P value is (0.9534433484077454, 2.818714684318886e-16)\n",
      "P value is (0.9525342583656311, 1.9028400607187785e-16)\n",
      "P value is (0.9566323757171631, 1.169068521053281e-15)\n",
      "P value is (0.9505757093429565, 8.307362318724746e-17)\n",
      "P value is (0.9574123620986938, 1.6740049779440666e-15)\n",
      "P value is (0.9543116092681885, 4.123212126935105e-16)\n",
      "P value is (0.9588098526000977, 3.2221736824528504e-15)\n",
      "P value is (0.802309513092041, 9.918066664865234e-32)\n",
      "P value is (0.9099961519241333, 1.2117041081536612e-22)\n"
     ]
    }
   ],
   "source": [
    "for i in df_columns:\n",
    "    print('P value is',(shapiro(df[i])))"
   ]
  },
  {
   "cell_type": "code",
   "execution_count": 18,
   "metadata": {},
   "outputs": [
    {
     "data": {
      "text/plain": [
       "0         0\n",
       "1         0\n",
       "2         0\n",
       "3         0\n",
       "4         0\n",
       "5         0\n",
       "6         0\n",
       "7         0\n",
       "8         0\n",
       "target    0\n",
       "dtype: int64"
      ]
     },
     "execution_count": 18,
     "metadata": {},
     "output_type": "execute_result"
    }
   ],
   "source": [
    "df.isna().sum()  # No missing values"
   ]
  },
  {
   "cell_type": "code",
   "execution_count": 19,
   "metadata": {},
   "outputs": [
    {
     "data": {
      "image/png": "[encoded data removed]",
      "text/plain": [
       "<Figure size 432x288 with 1 Axes>"
      ]
     },
     "metadata": {
      "needs_background": "light"
     },
     "output_type": "display_data"
    },
    {
     "data": {
      "image/png": "[encoded data removed]",
      "text/plain": [
       "<Figure size 432x288 with 1 Axes>"
      ]
     },
     "metadata": {
      "needs_background": "light"
     },
     "output_type": "display_data"
    },
    {
     "data": {
      "image/png": "[encoded data removed]",
      "text/plain": [
       "<Figure size 432x288 with 1 Axes>"
      ]
     },
     "metadata": {
      "needs_background": "light"
     },
     "output_type": "display_data"
    },
    {
     "data": {
      "image/png": "[encoded data removed]",
      "text/plain": [
       "<Figure size 432x288 with 1 Axes>"
      ]
     },
     "metadata": {
      "needs_background": "light"
     },
     "output_type": "display_data"
    },
    {
     "data": {
      "image/png": "[encoded data removed]",
      "text/plain": [
       "<Figure size 432x288 with 1 Axes>"
      ]
     },
     "metadata": {
      "needs_background": "light"
     },
     "output_type": "display_data"
    },
    {
     "data": {
      "image/png": "[encoded data removed]",
      "text/plain": [
       "<Figure size 432x288 with 1 Axes>"
      ]
     },
     "metadata": {
      "needs_background": "light"
     },
     "output_type": "display_data"
    },
    {
     "data": {
      "image/png": "[encoded data removed]",
      "text/plain": [
       "<Figure size 432x288 with 1 Axes>"
      ]
     },
     "metadata": {
      "needs_background": "light"
     },
     "output_type": "display_data"
    },
    {
     "data": {
      "image/png": "[encoded data removed]",
      "text/plain": [
       "<Figure size 432x288 with 1 Axes>"
      ]
     },
     "metadata": {
      "needs_background": "light"
     },
     "output_type": "display_data"
    },
    {
     "data": {
      "image/png": "[encoded data removed]",
      "text/plain": [
       "<Figure size 432x288 with 1 Axes>"
      ]
     },
     "metadata": {
      "needs_background": "light"
     },
     "output_type": "display_data"
    }
   ],
   "source": [
    "for i,e in enumerate(df_columns):\n",
    "    plt.figure(i)\n",
    "    sns.boxplot(df[e])\n",
    "    plt.xlabel(e)"
   ]
  },
  {
   "cell_type": "code",
   "execution_count": 20,
   "metadata": {},
   "outputs": [],
   "source": [
    "## no outliers."
   ]
  },
  {
   "cell_type": "code",
   "execution_count": 21,
   "metadata": {},
   "outputs": [
    {
     "data": {
      "image/png": "[encoded data removed]",
      "text/plain": [
       "<Figure size 432x288 with 1 Axes>"
      ]
     },
     "metadata": {
      "needs_background": "light"
     },
     "output_type": "display_data"
    },
    {
     "data": {
      "image/png": "[encoded data removed]",
      "text/plain": [
       "<Figure size 432x288 with 1 Axes>"
      ]
     },
     "metadata": {
      "needs_background": "light"
     },
     "output_type": "display_data"
    },
    {
     "data": {
      "image/png": "[encoded data removed]",
      "text/plain": [
       "<Figure size 432x288 with 1 Axes>"
      ]
     },
     "metadata": {
      "needs_background": "light"
     },
     "output_type": "display_data"
    },
    {
     "data": {
      "image/png": "[encoded data removed]",
      "text/plain": [
       "<Figure size 432x288 with 1 Axes>"
      ]
     },
     "metadata": {
      "needs_background": "light"
     },
     "output_type": "display_data"
    },
    {
     "data": {
      "image/png": "[encoded data removed]",
      "text/plain": [
       "<Figure size 432x288 with 1 Axes>"
      ]
     },
     "metadata": {
      "needs_background": "light"
     },
     "output_type": "display_data"
    },
    {
     "data": {
      "image/png": "[encoded data removed]",
      "text/plain": [
       "<Figure size 432x288 with 1 Axes>"
      ]
     },
     "metadata": {
      "needs_background": "light"
     },
     "output_type": "display_data"
    },
    {
     "data": {
      "image/png": "[encoded data removed]",
      "text/plain": [
       "<Figure size 432x288 with 1 Axes>"
      ]
     },
     "metadata": {
      "needs_background": "light"
     },
     "output_type": "display_data"
    },
    {
     "data": {
      "image/png": "[encoded data removed]",
      "text/plain": [
       "<Figure size 432x288 with 1 Axes>"
      ]
     },
     "metadata": {
      "needs_background": "light"
     },
     "output_type": "display_data"
    },
    {
     "data": {
      "image/png": "[encoded data removed]",
      "text/plain": [
       "<Figure size 432x288 with 1 Axes>"
      ]
     },
     "metadata": {
      "needs_background": "light"
     },
     "output_type": "display_data"
    }
   ],
   "source": [
    "for i,e in enumerate(df_columns):\n",
    "    plt.figure(i)\n",
    "    sns.distplot(df[e])\n",
    "    plt.xlabel(e)"
   ]
  },
  {
   "cell_type": "code",
   "execution_count": 31,
   "metadata": {},
   "outputs": [],
   "source": [
    "x = df.drop('target',axis=1)\n",
    "y = df['target']"
   ]
  },
  {
   "cell_type": "code",
   "execution_count": 33,
   "metadata": {},
   "outputs": [
    {
     "name": "stdout",
     "output_type": "stream",
     "text": [
      "(630, 9)\n",
      "(270, 9)\n",
      "(630,)\n",
      "(270,)\n"
     ]
    }
   ],
   "source": [
    "from sklearn.model_selection import train_test_split\n",
    "\n",
    "X_train, X_test, y_train, y_test = train_test_split(x,y, test_size = 0.30, random_state = 1)\n",
    "\n",
    "\n",
    "print(X_train.shape)\n",
    "print(X_test.shape)\n",
    "print(y_train.shape)\n",
    "print(y_test.shape)"
   ]
  },
  {
   "cell_type": "code",
   "execution_count": 34,
   "metadata": {},
   "outputs": [],
   "source": [
    "from sklearn.preprocessing import StandardScaler\n",
    "SC = StandardScaler()\n",
    "\n",
    "nm_xtrain = pd.DataFrame(SC.fit_transform(X_train), columns = X_train.columns)\n",
    "nm_xtest = pd.DataFrame(SC.transform(X_test), columns = X_test.columns)"
   ]
  },
  {
   "cell_type": "code",
   "execution_count": 35,
   "metadata": {},
   "outputs": [],
   "source": [
    "from sklearn.linear_model import LinearRegression"
   ]
  },
  {
   "cell_type": "code",
   "execution_count": 36,
   "metadata": {},
   "outputs": [
    {
     "name": "stderr",
     "output_type": "stream",
     "text": [
      "C:\\Users\\sande\\Anaconda3\\lib\\site-packages\\numpy\\core\\fromnumeric.py:2495: FutureWarning: Method .ptp is deprecated and will be removed in a future version. Use numpy.ptp instead.\n",
      "  return ptp(axis=axis, out=out, **kwargs)\n"
     ]
    }
   ],
   "source": [
    "import statsmodels.api as sm\n",
    "\n",
    "xc = sm.add_constant(x)"
   ]
  },
  {
   "cell_type": "code",
   "execution_count": 37,
   "metadata": {},
   "outputs": [],
   "source": [
    "model = sm.OLS(y,xc).fit()"
   ]
  },
  {
   "cell_type": "code",
   "execution_count": 38,
   "metadata": {},
   "outputs": [
    {
     "data": {
      "text/html": [
       "<table class=\"simpletable\">\n",
       "<caption>OLS Regression Results</caption>\n",
       "<tr>\n",
       "  <th>Dep. Variable:</th>         <td>target</td>      <th>  R-squared:         </th> <td>   0.829</td> \n",
       "</tr>\n",
       "<tr>\n",
       "  <th>Model:</th>                   <td>OLS</td>       <th>  Adj. R-squared:    </th> <td>   0.827</td> \n",
       "</tr>\n",
       "<tr>\n",
       "  <th>Method:</th>             <td>Least Squares</td>  <th>  F-statistic:       </th> <td>   480.1</td> \n",
       "</tr>\n",
       "<tr>\n",
       "  <th>Date:</th>             <td>Mon, 29 Jun 2020</td> <th>  Prob (F-statistic):</th>  <td>  0.00</td>  \n",
       "</tr>\n",
       "<tr>\n",
       "  <th>Time:</th>                 <td>10:40:46</td>     <th>  Log-Likelihood:    </th> <td> -6554.8</td> \n",
       "</tr>\n",
       "<tr>\n",
       "  <th>No. Observations:</th>      <td>   900</td>      <th>  AIC:               </th> <td>1.313e+04</td>\n",
       "</tr>\n",
       "<tr>\n",
       "  <th>Df Residuals:</th>          <td>   890</td>      <th>  BIC:               </th> <td>1.318e+04</td>\n",
       "</tr>\n",
       "<tr>\n",
       "  <th>Df Model:</th>              <td>     9</td>      <th>                     </th>     <td> </td>    \n",
       "</tr>\n",
       "<tr>\n",
       "  <th>Covariance Type:</th>      <td>nonrobust</td>    <th>                     </th>     <td> </td>    \n",
       "</tr>\n",
       "</table>\n",
       "<table class=\"simpletable\">\n",
       "<tr>\n",
       "    <td></td>       <th>coef</th>     <th>std err</th>      <th>t</th>      <th>P>|t|</th>  <th>[0.025</th>    <th>0.975]</th>  \n",
       "</tr>\n",
       "<tr>\n",
       "  <th>const</th> <td>  945.6542</td> <td>  403.460</td> <td>    2.344</td> <td> 0.019</td> <td>  153.810</td> <td> 1737.498</td>\n",
       "</tr>\n",
       "<tr>\n",
       "  <th>0</th>     <td>   14.6516</td> <td>    4.129</td> <td>    3.549</td> <td> 0.000</td> <td>    6.548</td> <td>   22.755</td>\n",
       "</tr>\n",
       "<tr>\n",
       "  <th>1</th>     <td>  224.9913</td> <td>   40.911</td> <td>    5.500</td> <td> 0.000</td> <td>  144.698</td> <td>  305.284</td>\n",
       "</tr>\n",
       "<tr>\n",
       "  <th>2</th>     <td>    1.0349</td> <td>    0.041</td> <td>   25.360</td> <td> 0.000</td> <td>    0.955</td> <td>    1.115</td>\n",
       "</tr>\n",
       "<tr>\n",
       "  <th>3</th>     <td>    0.0176</td> <td>    0.101</td> <td>    0.174</td> <td> 0.862</td> <td>   -0.181</td> <td>    0.216</td>\n",
       "</tr>\n",
       "<tr>\n",
       "  <th>4</th>     <td>-1951.9405</td> <td>   41.593</td> <td>  -46.930</td> <td> 0.000</td> <td>-2033.572</td> <td>-1870.309</td>\n",
       "</tr>\n",
       "<tr>\n",
       "  <th>5</th>     <td>    0.8310</td> <td>    0.416</td> <td>    1.999</td> <td> 0.046</td> <td>    0.015</td> <td>    1.647</td>\n",
       "</tr>\n",
       "<tr>\n",
       "  <th>6</th>     <td>    0.9953</td> <td>    0.042</td> <td>   23.654</td> <td> 0.000</td> <td>    0.913</td> <td>    1.078</td>\n",
       "</tr>\n",
       "<tr>\n",
       "  <th>7</th>     <td> -523.1573</td> <td>   15.103</td> <td>  -34.640</td> <td> 0.000</td> <td> -552.798</td> <td> -493.516</td>\n",
       "</tr>\n",
       "<tr>\n",
       "  <th>8</th>     <td>   -2.9849</td> <td>    7.073</td> <td>   -0.422</td> <td> 0.673</td> <td>  -16.866</td> <td>   10.896</td>\n",
       "</tr>\n",
       "</table>\n",
       "<table class=\"simpletable\">\n",
       "<tr>\n",
       "  <th>Omnibus:</th>       <td>12.115</td> <th>  Durbin-Watson:     </th> <td>   2.073</td>\n",
       "</tr>\n",
       "<tr>\n",
       "  <th>Prob(Omnibus):</th> <td> 0.002</td> <th>  Jarque-Bera (JB):  </th> <td>   8.059</td>\n",
       "</tr>\n",
       "<tr>\n",
       "  <th>Skew:</th>          <td>-0.080</td> <th>  Prob(JB):          </th> <td>  0.0178</td>\n",
       "</tr>\n",
       "<tr>\n",
       "  <th>Kurtosis:</th>      <td> 2.565</td> <th>  Cond. No.          </th> <td>3.26e+05</td>\n",
       "</tr>\n",
       "</table><br/><br/>Warnings:<br/>[1] Standard Errors assume that the covariance matrix of the errors is correctly specified.<br/>[2] The condition number is large, 3.26e+05. This might indicate that there are<br/>strong multicollinearity or other numerical problems."
      ],
      "text/plain": [
       "<class 'statsmodels.iolib.summary.Summary'>\n",
       "\"\"\"\n",
       "                            OLS Regression Results                            \n",
       "==============================================================================\n",
       "Dep. Variable:                 target   R-squared:                       0.829\n",
       "Model:                            OLS   Adj. R-squared:                  0.827\n",
       "Method:                 Least Squares   F-statistic:                     480.1\n",
       "Date:                Mon, 29 Jun 2020   Prob (F-statistic):               0.00\n",
       "Time:                        10:40:46   Log-Likelihood:                -6554.8\n",
       "No. Observations:                 900   AIC:                         1.313e+04\n",
       "Df Residuals:                     890   BIC:                         1.318e+04\n",
       "Df Model:                           9                                         \n",
       "Covariance Type:            nonrobust                                         \n",
       "==============================================================================\n",
       "                 coef    std err          t      P>|t|      [0.025      0.975]\n",
       "------------------------------------------------------------------------------\n",
       "const        945.6542    403.460      2.344      0.019     153.810    1737.498\n",
       "0             14.6516      4.129      3.549      0.000       6.548      22.755\n",
       "1            224.9913     40.911      5.500      0.000     144.698     305.284\n",
       "2              1.0349      0.041     25.360      0.000       0.955       1.115\n",
       "3              0.0176      0.101      0.174      0.862      -0.181       0.216\n",
       "4          -1951.9405     41.593    -46.930      0.000   -2033.572   -1870.309\n",
       "5              0.8310      0.416      1.999      0.046       0.015       1.647\n",
       "6              0.9953      0.042     23.654      0.000       0.913       1.078\n",
       "7           -523.1573     15.103    -34.640      0.000    -552.798    -493.516\n",
       "8             -2.9849      7.073     -0.422      0.673     -16.866      10.896\n",
       "==============================================================================\n",
       "Omnibus:                       12.115   Durbin-Watson:                   2.073\n",
       "Prob(Omnibus):                  0.002   Jarque-Bera (JB):                8.059\n",
       "Skew:                          -0.080   Prob(JB):                       0.0178\n",
       "Kurtosis:                       2.565   Cond. No.                     3.26e+05\n",
       "==============================================================================\n",
       "\n",
       "Warnings:\n",
       "[1] Standard Errors assume that the covariance matrix of the errors is correctly specified.\n",
       "[2] The condition number is large, 3.26e+05. This might indicate that there are\n",
       "strong multicollinearity or other numerical problems.\n",
       "\"\"\""
      ]
     },
     "execution_count": 38,
     "metadata": {},
     "output_type": "execute_result"
    }
   ],
   "source": [
    "model.summary()"
   ]
  },
  {
   "cell_type": "code",
   "execution_count": 39,
   "metadata": {},
   "outputs": [
    {
     "name": "stdout",
     "output_type": "stream",
     "text": [
      "['0', '1', '2', '4', '5', '6', '7']\n"
     ]
    }
   ],
   "source": [
    "cols = list(x.columns)\n",
    "pmax =1\n",
    "while len(cols)> 0:\n",
    "    p =[]\n",
    "    X = x[cols]\n",
    "    xc = sm.add_constant(X)\n",
    "    model = sm.OLS(y,xc).fit()\n",
    "    p = pd.Series(model.pvalues.values[1:],index=cols)\n",
    "    pmax = max(p)\n",
    "    feature_with_pmax = p.idxmax()\n",
    "    if(pmax>0.05):\n",
    "        cols.remove(feature_with_pmax)\n",
    "    else:\n",
    "        break\n",
    "Selected_features_BE = cols\n",
    "print(Selected_features_BE)"
   ]
  },
  {
   "cell_type": "code",
   "execution_count": 40,
   "metadata": {},
   "outputs": [],
   "source": [
    "# the above cell shows the required columns required for model building based on the p values of the ols summary\n",
    "# we can drop all the columns that have a p value greater than 0.05 as they wont contribute much to the model."
   ]
  },
  {
   "cell_type": "code",
   "execution_count": 44,
   "metadata": {},
   "outputs": [
    {
     "data": {
      "text/plain": [
       "LinearRegression(copy_X=True, fit_intercept=True, n_jobs=None, normalize=False)"
      ]
     },
     "execution_count": 44,
     "metadata": {},
     "output_type": "execute_result"
    }
   ],
   "source": [
    "## using all the features.\n",
    "\n",
    "LR = LinearRegression()\n",
    "LR.fit(nm_xtrain,y_train)"
   ]
  },
  {
   "cell_type": "code",
   "execution_count": 45,
   "metadata": {},
   "outputs": [],
   "source": [
    "y_pred = LR.predict(nm_xtest)"
   ]
  },
  {
   "cell_type": "code",
   "execution_count": 46,
   "metadata": {},
   "outputs": [
    {
     "name": "stdout",
     "output_type": "stream",
     "text": [
      "377.69810088545245\n"
     ]
    }
   ],
   "source": [
    "from sklearn import metrics\n",
    "\n",
    "metrics.mean_squared_error(y_test,y_pred)\n",
    "rmse = np.sqrt(metrics.mean_squared_error(y_test,y_pred))\n",
    "print(rmse)"
   ]
  },
  {
   "cell_type": "code",
   "execution_count": 47,
   "metadata": {},
   "outputs": [
    {
     "name": "stdout",
     "output_type": "stream",
     "text": [
      "0.7976453122360232\n"
     ]
    }
   ],
   "source": [
    "r_sq = metrics.r2_score(y_test,y_pred)\n",
    "print(r_sq) "
   ]
  },
  {
   "cell_type": "code",
   "execution_count": null,
   "metadata": {},
   "outputs": [],
   "source": [
    "## dropping column '3'"
   ]
  },
  {
   "cell_type": "code",
   "execution_count": 49,
   "metadata": {},
   "outputs": [],
   "source": [
    "x_update = df_columns.drop(['3'],axis=1)"
   ]
  },
  {
   "cell_type": "code",
   "execution_count": 50,
   "metadata": {},
   "outputs": [
    {
     "name": "stdout",
     "output_type": "stream",
     "text": [
      "(630, 8)\n",
      "(270, 8)\n",
      "(630,)\n",
      "(270,)\n"
     ]
    }
   ],
   "source": [
    "X_train, X_test, y_train, y_test = train_test_split(x_update,y, test_size = 0.30, random_state = 1)\n",
    "\n",
    "\n",
    "print(X_train.shape)\n",
    "print(X_test.shape)\n",
    "print(y_train.shape)\n",
    "print(y_test.shape)"
   ]
  },
  {
   "cell_type": "code",
   "execution_count": 51,
   "metadata": {},
   "outputs": [],
   "source": [
    "from sklearn.preprocessing import StandardScaler\n",
    "SC = StandardScaler()\n",
    "\n",
    "nm_xtrain_up = pd.DataFrame(SC.fit_transform(X_train), columns = X_train.columns)\n",
    "nm_xtest_up = pd.DataFrame(SC.transform(X_test), columns = X_test.columns)"
   ]
  },
  {
   "cell_type": "code",
   "execution_count": 52,
   "metadata": {},
   "outputs": [
    {
     "data": {
      "text/plain": [
       "LinearRegression(copy_X=True, fit_intercept=True, n_jobs=None, normalize=False)"
      ]
     },
     "execution_count": 52,
     "metadata": {},
     "output_type": "execute_result"
    }
   ],
   "source": [
    "LR.fit(nm_xtrain_up,y_train)"
   ]
  },
  {
   "cell_type": "code",
   "execution_count": 53,
   "metadata": {},
   "outputs": [],
   "source": [
    "y_pred = LR.predict(nm_xtest_up)"
   ]
  },
  {
   "cell_type": "code",
   "execution_count": 54,
   "metadata": {},
   "outputs": [
    {
     "name": "stdout",
     "output_type": "stream",
     "text": [
      "376.82222663209564\n"
     ]
    }
   ],
   "source": [
    "metrics.mean_squared_error(y_test,y_pred)\n",
    "rmse = np.sqrt(metrics.mean_squared_error(y_test,y_pred))\n",
    "print(rmse)"
   ]
  },
  {
   "cell_type": "code",
   "execution_count": 55,
   "metadata": {},
   "outputs": [
    {
     "name": "stdout",
     "output_type": "stream",
     "text": [
      "0.7985827368925542\n"
     ]
    }
   ],
   "source": [
    "r_sq = metrics.r2_score(y_test,y_pred)\n",
    "print(r_sq) "
   ]
  },
  {
   "cell_type": "code",
   "execution_count": 56,
   "metadata": {},
   "outputs": [
    {
     "name": "stdout",
     "output_type": "stream",
     "text": [
      "RMSE scores: 358.263 (+/- 23.97627) [Linear-Regression]\n"
     ]
    }
   ],
   "source": [
    "## K fold cross validation - \n",
    "\n",
    "\n",
    "model = LinearRegression()\n",
    "\n",
    "from sklearn.model_selection import KFold\n",
    "from sklearn import metrics\n",
    "kf = KFold(n_splits=5,shuffle = True,random_state=0)\n",
    "for model,name in  zip([model],['Linear-Regression']):\n",
    "    rmse = []\n",
    "    for train_idx,test_idx in kf.split(x,y):\n",
    "        Xtrain,Xtest = x.iloc[train_idx,:],x.iloc[test_idx,:]\n",
    "        Ytrain,Ytest = y.iloc[train_idx],y.iloc[test_idx]\n",
    "        model.fit(Xtrain,Ytrain)\n",
    "        Y_predict = model.predict(Xtest)\n",
    "        mse = metrics.mean_squared_error(Ytest,Y_predict)\n",
    "        rmse.append(np.sqrt(mse))\n",
    "    print('RMSE scores: %0.03f (+/- %0.5f) [%s]'%(np.mean(rmse),np.var(rmse,ddof=1),name))"
   ]
  },
  {
   "cell_type": "code",
   "execution_count": 57,
   "metadata": {},
   "outputs": [],
   "source": [
    "from sklearn.linear_model import Ridge,Lasso,ElasticNet"
   ]
  },
  {
   "cell_type": "code",
   "execution_count": 58,
   "metadata": {},
   "outputs": [
    {
     "name": "stdout",
     "output_type": "stream",
     "text": [
      "RMSE scores: 358.263 (+/- 23.97627) [Linear-Regression]\n",
      "RMSE scores: 798.751 (+/- 1834.87052) [Ridge]\n",
      "RMSE scores: 357.984 (+/- 20.07335) [Lasso]\n",
      "RMSE scores: 687.836 (+/- 1470.67667) [ElasticNet]\n"
     ]
    }
   ],
   "source": [
    "m11 = LinearRegression()\n",
    "m21= Ridge(alpha=11,normalize=True)\n",
    "m31 = Lasso(alpha = 0.1,normalize=True)\n",
    "m4 = ElasticNet(alpha = 0.01 , l1_ratio = 0.6,normalize=True) #l1_ratio = 1 means ridge  turned off\n",
    "\n",
    "\n",
    "\n",
    "from sklearn.model_selection import KFold\n",
    "from sklearn import metrics\n",
    "kf = KFold(n_splits=5,shuffle = True,random_state=0)\n",
    "for model,name in  zip([m11,m21,m31,m4],['Linear-Regression','Ridge','Lasso','ElasticNet']):\n",
    "    rmse = []\n",
    "    for train_idx,test_idx in kf.split(x,y):\n",
    "        Xtrain,Xtest = x.iloc[train_idx,:],x.iloc[test_idx,:]\n",
    "        Ytrain,Ytest = y.iloc[train_idx],y.iloc[test_idx]\n",
    "        model.fit(Xtrain,Ytrain)\n",
    "        Y_predict = model.predict(Xtest)\n",
    "        mse = metrics.mean_squared_error(Ytest,Y_predict)\n",
    "        rmse.append(np.sqrt(mse))\n",
    "    print('RMSE scores: %0.03f (+/- %0.5f) [%s]'%(np.mean(rmse),np.var(rmse,ddof=1),name))"
   ]
  },
  {
   "cell_type": "code",
   "execution_count": 59,
   "metadata": {},
   "outputs": [],
   "source": [
    "from sklearn.linear_model import LinearRegression,Ridge,Lasso,ElasticNet\n",
    "\n",
    "m1=LinearRegression()\n",
    "m2=Ridge(normalize=True)\n",
    "m3=Lasso(normalize=True)\n",
    "m4=ElasticNet(normalize=True)"
   ]
  },
  {
   "cell_type": "code",
   "execution_count": 60,
   "metadata": {},
   "outputs": [],
   "source": [
    "from sklearn.model_selection import GridSearchCV\n",
    "\n",
    "param_rd={'alpha':np.arange(0.01,1,0.01)}\n",
    "param_Ls={'alpha':np.arange(0.01,1,0.01)}\n",
    "param_En={'alpha':np.arange(0.01,1,0.01),'l1_ratio':np.arange(0.1,1,0.01)} "
   ]
  },
  {
   "cell_type": "code",
   "execution_count": 61,
   "metadata": {},
   "outputs": [
    {
     "data": {
      "text/plain": [
       "{'alpha': 0.01}"
      ]
     },
     "execution_count": 61,
     "metadata": {},
     "output_type": "execute_result"
    }
   ],
   "source": [
    "# GSCV for ridge - \n",
    "\n",
    "Gs_rd=GridSearchCV(m2,param_rd,cv=5,scoring='r2')\n",
    "Gs_rd.fit(x_update,y)\n",
    "Gs_rd.best_params_"
   ]
  },
  {
   "cell_type": "code",
   "execution_count": 63,
   "metadata": {},
   "outputs": [
    {
     "name": "stdout",
     "output_type": "stream",
     "text": [
      "{'alpha': 0.04}\n",
      "{'alpha': 0.01, 'l1_ratio': 0.9899999999999995}\n"
     ]
    }
   ],
   "source": [
    "# GSCV for Lasso - \n",
    "Gs_rd=GridSearchCV(m3,param_rd,cv=5,scoring='r2')\n",
    "Gs_rd.fit(x_update,y)\n",
    "print(Gs_rd.best_params_)\n",
    "\n",
    "#GSCV for elastic net - \n",
    "\n",
    "Gs_rd=GridSearchCV(m4,param_En,cv=5,scoring='r2')\n",
    "Gs_rd.fit(x_update,y)\n",
    "print(Gs_rd.best_params_)"
   ]
  },
  {
   "cell_type": "code",
   "execution_count": 64,
   "metadata": {},
   "outputs": [],
   "source": [
    "m1=LinearRegression()\n",
    "m2=Ridge(alpha=0.01,normalize=True)\n",
    "m3=Lasso(alpha=0.04,normalize=True)\n",
    "m4=ElasticNet(alpha=0.01,l1_ratio=0.9899999999999995,normalize=True)"
   ]
  },
  {
   "cell_type": "code",
   "execution_count": 65,
   "metadata": {},
   "outputs": [
    {
     "name": "stdout",
     "output_type": "stream",
     "text": [
      "0.8312727251976906\n",
      "RMSE scores:358.263 (+/-4.89656)[Linear_Regression]\n",
      "0.8311760340236984\n",
      "RMSE scores:358.339 (+/-4.36118)[Ridge]\n",
      "0.8312584317239903\n",
      "RMSE scores:358.125 (+/-4.70698)[Lasso]\n",
      "0.8267953104702102\n",
      "RMSE scores:362.661 (+/-5.82956)[ElasticNet]\n"
     ]
    }
   ],
   "source": [
    "from sklearn.model_selection import KFold\n",
    "from sklearn import metrics\n",
    "kf=KFold(n_splits=5,shuffle=True,random_state=0)\n",
    "for model,name in zip([m1,m2,m3,m4],['Linear_Regression','Ridge','Lasso','ElasticNet']):\n",
    "    rmse=[]\n",
    "    for train_idx,test_idx in kf.split(x,y):\n",
    "        Xtrain,Xtest=x.iloc[train_idx,:],x.iloc[test_idx,:]\n",
    "        Ytrain,Ytest=y.iloc[train_idx],y.iloc[test_idx]\n",
    "        \n",
    "        model.fit(Xtrain,Ytrain)\n",
    "        Y_predict=model.predict(Xtest)\n",
    "        #cm=metrics.confusion_matrix(Ytest,Y_predict)\n",
    "        mse=metrics.mean_squared_error(Ytest,Y_predict)\n",
    "        rmse.append(np.sqrt(mse))\n",
    "    print(model.score(Xtrain,Ytrain))\n",
    "    print('RMSE scores:%0.03f (+/-%0.5f)[%s]'%(np.mean(rmse),np.std(rmse,ddof=1),name))"
   ]
  },
  {
   "cell_type": "code",
   "execution_count": 66,
   "metadata": {},
   "outputs": [],
   "source": [
    "## reading the test file"
   ]
  },
  {
   "cell_type": "code",
   "execution_count": 72,
   "metadata": {},
   "outputs": [],
   "source": [
    "df_test = pd.read_csv('cctech_test.txt')"
   ]
  },
  {
   "cell_type": "code",
   "execution_count": 73,
   "metadata": {},
   "outputs": [
    {
     "data": {
      "text/plain": [
       "(100, 9)"
      ]
     },
     "execution_count": 73,
     "metadata": {},
     "output_type": "execute_result"
    }
   ],
   "source": [
    "df_test.shape"
   ]
  },
  {
   "cell_type": "code",
   "execution_count": 70,
   "metadata": {},
   "outputs": [
    {
     "data": {
      "text/html": [
       "<div>\n",
       "<style scoped>\n",
       "    .dataframe tbody tr th:only-of-type {\n",
       "        vertical-align: middle;\n",
       "    }\n",
       "\n",
       "    .dataframe tbody tr th {\n",
       "        vertical-align: top;\n",
       "    }\n",
       "\n",
       "    .dataframe thead th {\n",
       "        text-align: right;\n",
       "    }\n",
       "</style>\n",
       "<table border=\"1\" class=\"dataframe\">\n",
       "  <thead>\n",
       "    <tr style=\"text-align: right;\">\n",
       "      <th></th>\n",
       "      <th>0</th>\n",
       "      <th>1</th>\n",
       "      <th>2</th>\n",
       "      <th>3</th>\n",
       "      <th>4</th>\n",
       "      <th>5</th>\n",
       "      <th>6</th>\n",
       "      <th>7</th>\n",
       "      <th>8</th>\n",
       "    </tr>\n",
       "  </thead>\n",
       "  <tbody>\n",
       "    <tr>\n",
       "      <th>0</th>\n",
       "      <td>8.243945</td>\n",
       "      <td>0.442707</td>\n",
       "      <td>814.191463</td>\n",
       "      <td>437.449497</td>\n",
       "      <td>0.820757</td>\n",
       "      <td>66.358208</td>\n",
       "      <td>9321.584760</td>\n",
       "      <td>1.0</td>\n",
       "      <td>5.0</td>\n",
       "    </tr>\n",
       "    <tr>\n",
       "      <th>1</th>\n",
       "      <td>0.450469</td>\n",
       "      <td>0.734878</td>\n",
       "      <td>690.536337</td>\n",
       "      <td>337.971868</td>\n",
       "      <td>0.163483</td>\n",
       "      <td>88.966042</td>\n",
       "      <td>9653.465215</td>\n",
       "      <td>2.0</td>\n",
       "      <td>3.0</td>\n",
       "    </tr>\n",
       "    <tr>\n",
       "      <th>2</th>\n",
       "      <td>5.805761</td>\n",
       "      <td>0.412531</td>\n",
       "      <td>225.544432</td>\n",
       "      <td>468.295427</td>\n",
       "      <td>0.254678</td>\n",
       "      <td>27.853712</td>\n",
       "      <td>9840.535247</td>\n",
       "      <td>2.0</td>\n",
       "      <td>3.0</td>\n",
       "    </tr>\n",
       "    <tr>\n",
       "      <th>3</th>\n",
       "      <td>4.126340</td>\n",
       "      <td>0.685302</td>\n",
       "      <td>73.330815</td>\n",
       "      <td>169.578437</td>\n",
       "      <td>0.828849</td>\n",
       "      <td>81.691968</td>\n",
       "      <td>9044.806270</td>\n",
       "      <td>2.0</td>\n",
       "      <td>5.0</td>\n",
       "    </tr>\n",
       "    <tr>\n",
       "      <th>4</th>\n",
       "      <td>8.082666</td>\n",
       "      <td>0.449977</td>\n",
       "      <td>526.274384</td>\n",
       "      <td>308.148895</td>\n",
       "      <td>0.737136</td>\n",
       "      <td>30.420377</td>\n",
       "      <td>9916.538668</td>\n",
       "      <td>1.0</td>\n",
       "      <td>5.0</td>\n",
       "    </tr>\n",
       "  </tbody>\n",
       "</table>\n",
       "</div>"
      ],
      "text/plain": [
       "          0         1           2           3         4          5  \\\n",
       "0  8.243945  0.442707  814.191463  437.449497  0.820757  66.358208   \n",
       "1  0.450469  0.734878  690.536337  337.971868  0.163483  88.966042   \n",
       "2  5.805761  0.412531  225.544432  468.295427  0.254678  27.853712   \n",
       "3  4.126340  0.685302   73.330815  169.578437  0.828849  81.691968   \n",
       "4  8.082666  0.449977  526.274384  308.148895  0.737136  30.420377   \n",
       "\n",
       "             6    7    8  \n",
       "0  9321.584760  1.0  5.0  \n",
       "1  9653.465215  2.0  3.0  \n",
       "2  9840.535247  2.0  3.0  \n",
       "3  9044.806270  2.0  5.0  \n",
       "4  9916.538668  1.0  5.0  "
      ]
     },
     "execution_count": 70,
     "metadata": {},
     "output_type": "execute_result"
    }
   ],
   "source": [
    "df_test.head()"
   ]
  },
  {
   "cell_type": "code",
   "execution_count": 75,
   "metadata": {},
   "outputs": [],
   "source": [
    "xtest = pd.DataFrame(SC.fit_transform(df_test))"
   ]
  },
  {
   "cell_type": "code",
   "execution_count": 76,
   "metadata": {},
   "outputs": [],
   "source": [
    "predict = m1.predict(xtest)"
   ]
  },
  {
   "cell_type": "code",
   "execution_count": 77,
   "metadata": {},
   "outputs": [
    {
     "data": {
      "text/plain": [
       "array([ -450.99085502,  3787.88645513,  2921.45743666,  -992.82979031,\n",
       "         150.95112115,  3552.28558609,  1526.48678953,  2416.69501096,\n",
       "       -1261.25458725, -1526.81408107,   -95.74984874,  1957.25947685,\n",
       "       -1015.18453551,  -861.37286312,  1060.8518056 ,  2776.43801224,\n",
       "        1319.25005177,  5515.90552155, -1548.71433067,  1825.91009837,\n",
       "        4040.00097843, -2262.46989954,   442.41182079, -1472.87943153,\n",
       "        4180.93739699,  -412.50575555,   -46.7655257 ,  -690.31888275,\n",
       "        -524.38096821,   434.98986496,  3702.47101438,  5111.05283267,\n",
       "       -1580.53453979,  1431.48002601,   349.9139214 ,  4513.83315636,\n",
       "        4121.20391064,   -75.91289117,  1752.36714225,  3173.14942722,\n",
       "        3810.07599432,  4474.54383184,   -94.294951  ,  1107.20976899,\n",
       "        3814.77852619,  2727.05948643,  3784.7847473 ,  1488.55819987,\n",
       "        3393.8563192 ,  2444.47746938,  2574.77770219,  1678.16904963,\n",
       "        2147.69538825,   485.10248895,  3445.02079129,  1467.87126147,\n",
       "        1680.53827645,  1694.70115211,  2517.33870394,  -417.00603538,\n",
       "        3307.89437158,  -924.99875025,  -869.26108969,    58.94254731,\n",
       "       -1256.77249239,  3814.45762472, -2762.89486857,   669.81708675,\n",
       "        1067.78899933,  2821.19264922,  3858.97893543,  3257.55411061,\n",
       "        3005.76046733,   338.51051446,  2045.25571088,  -522.00557157,\n",
       "        -910.13770636,  5163.54102706,   694.11546013, -2334.48512073,\n",
       "        -266.05792137,   294.68516815,   295.18340764,  3544.80170827,\n",
       "        1040.49705336,  -483.5968141 ,  1875.85045685, -1934.67361332,\n",
       "        5298.42638268,  1654.95568188,  -785.55620773,  1900.02648594,\n",
       "         -96.82917503,  4717.43045678,  3827.6165686 ,  -689.13898716,\n",
       "        -950.74580608,   319.64220249,   374.14172525,   802.72522542])"
      ]
     },
     "execution_count": 77,
     "metadata": {},
     "output_type": "execute_result"
    }
   ],
   "source": [
    "predict"
   ]
  },
  {
   "cell_type": "code",
   "execution_count": null,
   "metadata": {},
   "outputs": [],
   "source": [
    "## the above are the values for the given test data"
   ]
  }
 ],
 "metadata": {
  "kernelspec": {
   "display_name": "Python 3",
   "language": "python",
   "name": "python3"
  },
  "language_info": {
   "codemirror_mode": {
    "name": "ipython",
    "version": 3
   },
   "file_extension": ".py",
   "mimetype": "text/x-python",
   "name": "python",
   "nbconvert_exporter": "python",
   "pygments_lexer": "ipython3",
   "version": "3.7.3"
  }
 },
 "nbformat": 4,
 "nbformat_minor": 2
}
